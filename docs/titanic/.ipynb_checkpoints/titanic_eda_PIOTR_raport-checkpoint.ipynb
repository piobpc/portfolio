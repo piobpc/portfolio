{
 "cells": [
  {
   "cell_type": "markdown",
   "metadata": {},
   "source": [
    "# Analiza EDA danych dotyczących Titanica #\n",
    "\n",
    "### Autor: Piotr Bednarski ###"
   ]
  },
  {
   "cell_type": "markdown",
   "metadata": {},
   "source": [
    "## O Danych\n",
    "\n",
    "Dane o pasażerach Titanica\n",
    "\n",
    "Zbiór danych zawiera informacje o pasażerach RMS Titanic, który zatonął 15 kwietnia 1912 roku po zderzeniu z górą\n",
    "lodową. Dane obejmują takie atrybuty jak klasa podróży, wiek, płeć, liczba rodzeństwa/małżonków na pokładzie,\n",
    "liczba rodziców/dzieci na pokładzie, cena biletu oraz miejsce zaokrętowania.\n",
    "\n",
    "Zbiór zawiera także informację o tym, czy pasażer przeżył katastrofę.\n",
    "\n",
    "Titanic przewoził ponad 2,200 osób, z czego ponad 1,500 zginęło, co czyni tę katastrofę jedną z najbardziej\n",
    "tragicznych w historii morskiej.\n",
    "\n",
    "Kolumny:\n",
    "\n",
    "* **pclass** - Klasa biletu\n",
    "* **survived** - Czy pasażer przeżył katastrofę\n",
    "* **name** - Imię i nazwisko pasażera\n",
    "* **sex** - Płeć pasażera\n",
    "* **age** - Wiek pasażera\n",
    "* **sibsp** - Liczba rodzeństwa/małżonków na pokładzie\n",
    "* **parch** - Liczba rodziców/dzieci na pokładzie\n",
    "* **ticket** - Numer biletu\n",
    "* **fare** - Cena biletu\n",
    "* **cabin** - Numer kabiny\n",
    "* **embarked** - Port, w którym pasażer wszedł na pokład (C = Cherbourg, Q = Queenstown, S = Southampton)\n",
    "* **boat** - Numer łodzi ratunkowej\n",
    "* **body** - Numer ciała (jeśli pasażer nie przeżył i ciało zostało odnalezione)\n",
    "* **home.dest** - Miejsce docelowe"
   ]
  },
  {
   "cell_type": "code",
   "execution_count": 5,
   "metadata": {},
   "outputs": [],
   "source": [
    "import pandas as pd\n",
    "import matplotlib.pyplot as plt"
   ]
  },
  {
   "cell_type": "code",
   "execution_count": 6,
   "metadata": {},
   "outputs": [
    {
     "data": {
      "text/html": [
       "<div>\n",
       "<style scoped>\n",
       "    .dataframe tbody tr th:only-of-type {\n",
       "        vertical-align: middle;\n",
       "    }\n",
       "\n",
       "    .dataframe tbody tr th {\n",
       "        vertical-align: top;\n",
       "    }\n",
       "\n",
       "    .dataframe thead th {\n",
       "        text-align: right;\n",
       "    }\n",
       "</style>\n",
       "<table border=\"1\" class=\"dataframe\">\n",
       "  <thead>\n",
       "    <tr style=\"text-align: right;\">\n",
       "      <th></th>\n",
       "      <th>pclass</th>\n",
       "      <th>survived</th>\n",
       "      <th>name</th>\n",
       "      <th>sex</th>\n",
       "      <th>age</th>\n",
       "      <th>sibsp</th>\n",
       "      <th>parch</th>\n",
       "      <th>ticket</th>\n",
       "      <th>fare</th>\n",
       "      <th>cabin</th>\n",
       "      <th>embarked</th>\n",
       "      <th>boat</th>\n",
       "      <th>body</th>\n",
       "      <th>home.dest</th>\n",
       "    </tr>\n",
       "  </thead>\n",
       "  <tbody>\n",
       "    <tr>\n",
       "      <th>0</th>\n",
       "      <td>1.0</td>\n",
       "      <td>1.0</td>\n",
       "      <td>Allen, Miss. Elisabeth Walton</td>\n",
       "      <td>female</td>\n",
       "      <td>29.0000</td>\n",
       "      <td>0.0</td>\n",
       "      <td>0.0</td>\n",
       "      <td>24160</td>\n",
       "      <td>211.3375</td>\n",
       "      <td>B5</td>\n",
       "      <td>S</td>\n",
       "      <td>2</td>\n",
       "      <td>NaN</td>\n",
       "      <td>St Louis, MO</td>\n",
       "    </tr>\n",
       "    <tr>\n",
       "      <th>1</th>\n",
       "      <td>1.0</td>\n",
       "      <td>1.0</td>\n",
       "      <td>Allison, Master. Hudson Trevor</td>\n",
       "      <td>male</td>\n",
       "      <td>0.9167</td>\n",
       "      <td>1.0</td>\n",
       "      <td>2.0</td>\n",
       "      <td>113781</td>\n",
       "      <td>151.5500</td>\n",
       "      <td>C22 C26</td>\n",
       "      <td>S</td>\n",
       "      <td>11</td>\n",
       "      <td>NaN</td>\n",
       "      <td>Montreal, PQ / Chesterville, ON</td>\n",
       "    </tr>\n",
       "    <tr>\n",
       "      <th>2</th>\n",
       "      <td>1.0</td>\n",
       "      <td>0.0</td>\n",
       "      <td>Allison, Miss. Helen Loraine</td>\n",
       "      <td>female</td>\n",
       "      <td>2.0000</td>\n",
       "      <td>1.0</td>\n",
       "      <td>2.0</td>\n",
       "      <td>113781</td>\n",
       "      <td>151.5500</td>\n",
       "      <td>C22 C26</td>\n",
       "      <td>S</td>\n",
       "      <td>NaN</td>\n",
       "      <td>NaN</td>\n",
       "      <td>Montreal, PQ / Chesterville, ON</td>\n",
       "    </tr>\n",
       "    <tr>\n",
       "      <th>3</th>\n",
       "      <td>1.0</td>\n",
       "      <td>0.0</td>\n",
       "      <td>Allison, Mr. Hudson Joshua Creighton</td>\n",
       "      <td>male</td>\n",
       "      <td>30.0000</td>\n",
       "      <td>1.0</td>\n",
       "      <td>2.0</td>\n",
       "      <td>113781</td>\n",
       "      <td>151.5500</td>\n",
       "      <td>C22 C26</td>\n",
       "      <td>S</td>\n",
       "      <td>NaN</td>\n",
       "      <td>135.0</td>\n",
       "      <td>Montreal, PQ / Chesterville, ON</td>\n",
       "    </tr>\n",
       "    <tr>\n",
       "      <th>4</th>\n",
       "      <td>1.0</td>\n",
       "      <td>0.0</td>\n",
       "      <td>Allison, Mrs. Hudson J C (Bessie Waldo Daniels)</td>\n",
       "      <td>female</td>\n",
       "      <td>25.0000</td>\n",
       "      <td>1.0</td>\n",
       "      <td>2.0</td>\n",
       "      <td>113781</td>\n",
       "      <td>151.5500</td>\n",
       "      <td>C22 C26</td>\n",
       "      <td>S</td>\n",
       "      <td>NaN</td>\n",
       "      <td>NaN</td>\n",
       "      <td>Montreal, PQ / Chesterville, ON</td>\n",
       "    </tr>\n",
       "    <tr>\n",
       "      <th>...</th>\n",
       "      <td>...</td>\n",
       "      <td>...</td>\n",
       "      <td>...</td>\n",
       "      <td>...</td>\n",
       "      <td>...</td>\n",
       "      <td>...</td>\n",
       "      <td>...</td>\n",
       "      <td>...</td>\n",
       "      <td>...</td>\n",
       "      <td>...</td>\n",
       "      <td>...</td>\n",
       "      <td>...</td>\n",
       "      <td>...</td>\n",
       "      <td>...</td>\n",
       "    </tr>\n",
       "    <tr>\n",
       "      <th>1305</th>\n",
       "      <td>3.0</td>\n",
       "      <td>0.0</td>\n",
       "      <td>Zabour, Miss. Thamine</td>\n",
       "      <td>female</td>\n",
       "      <td>NaN</td>\n",
       "      <td>1.0</td>\n",
       "      <td>0.0</td>\n",
       "      <td>2665</td>\n",
       "      <td>14.4542</td>\n",
       "      <td>NaN</td>\n",
       "      <td>C</td>\n",
       "      <td>NaN</td>\n",
       "      <td>NaN</td>\n",
       "      <td>NaN</td>\n",
       "    </tr>\n",
       "    <tr>\n",
       "      <th>1306</th>\n",
       "      <td>3.0</td>\n",
       "      <td>0.0</td>\n",
       "      <td>Zakarian, Mr. Mapriededer</td>\n",
       "      <td>male</td>\n",
       "      <td>26.5000</td>\n",
       "      <td>0.0</td>\n",
       "      <td>0.0</td>\n",
       "      <td>2656</td>\n",
       "      <td>7.2250</td>\n",
       "      <td>NaN</td>\n",
       "      <td>C</td>\n",
       "      <td>NaN</td>\n",
       "      <td>304.0</td>\n",
       "      <td>NaN</td>\n",
       "    </tr>\n",
       "    <tr>\n",
       "      <th>1307</th>\n",
       "      <td>3.0</td>\n",
       "      <td>0.0</td>\n",
       "      <td>Zakarian, Mr. Ortin</td>\n",
       "      <td>male</td>\n",
       "      <td>27.0000</td>\n",
       "      <td>0.0</td>\n",
       "      <td>0.0</td>\n",
       "      <td>2670</td>\n",
       "      <td>7.2250</td>\n",
       "      <td>NaN</td>\n",
       "      <td>C</td>\n",
       "      <td>NaN</td>\n",
       "      <td>NaN</td>\n",
       "      <td>NaN</td>\n",
       "    </tr>\n",
       "    <tr>\n",
       "      <th>1308</th>\n",
       "      <td>3.0</td>\n",
       "      <td>0.0</td>\n",
       "      <td>Zimmerman, Mr. Leo</td>\n",
       "      <td>male</td>\n",
       "      <td>29.0000</td>\n",
       "      <td>0.0</td>\n",
       "      <td>0.0</td>\n",
       "      <td>315082</td>\n",
       "      <td>7.8750</td>\n",
       "      <td>NaN</td>\n",
       "      <td>S</td>\n",
       "      <td>NaN</td>\n",
       "      <td>NaN</td>\n",
       "      <td>NaN</td>\n",
       "    </tr>\n",
       "    <tr>\n",
       "      <th>1309</th>\n",
       "      <td>NaN</td>\n",
       "      <td>NaN</td>\n",
       "      <td>NaN</td>\n",
       "      <td>NaN</td>\n",
       "      <td>NaN</td>\n",
       "      <td>NaN</td>\n",
       "      <td>NaN</td>\n",
       "      <td>NaN</td>\n",
       "      <td>NaN</td>\n",
       "      <td>NaN</td>\n",
       "      <td>NaN</td>\n",
       "      <td>NaN</td>\n",
       "      <td>NaN</td>\n",
       "      <td>NaN</td>\n",
       "    </tr>\n",
       "  </tbody>\n",
       "</table>\n",
       "<p>1310 rows × 14 columns</p>\n",
       "</div>"
      ],
      "text/plain": [
       "      pclass  survived                                             name  \\\n",
       "0        1.0       1.0                    Allen, Miss. Elisabeth Walton   \n",
       "1        1.0       1.0                   Allison, Master. Hudson Trevor   \n",
       "2        1.0       0.0                     Allison, Miss. Helen Loraine   \n",
       "3        1.0       0.0             Allison, Mr. Hudson Joshua Creighton   \n",
       "4        1.0       0.0  Allison, Mrs. Hudson J C (Bessie Waldo Daniels)   \n",
       "...      ...       ...                                              ...   \n",
       "1305     3.0       0.0                            Zabour, Miss. Thamine   \n",
       "1306     3.0       0.0                        Zakarian, Mr. Mapriededer   \n",
       "1307     3.0       0.0                              Zakarian, Mr. Ortin   \n",
       "1308     3.0       0.0                               Zimmerman, Mr. Leo   \n",
       "1309     NaN       NaN                                              NaN   \n",
       "\n",
       "         sex      age  sibsp  parch  ticket      fare    cabin embarked boat  \\\n",
       "0     female  29.0000    0.0    0.0   24160  211.3375       B5        S    2   \n",
       "1       male   0.9167    1.0    2.0  113781  151.5500  C22 C26        S   11   \n",
       "2     female   2.0000    1.0    2.0  113781  151.5500  C22 C26        S  NaN   \n",
       "3       male  30.0000    1.0    2.0  113781  151.5500  C22 C26        S  NaN   \n",
       "4     female  25.0000    1.0    2.0  113781  151.5500  C22 C26        S  NaN   \n",
       "...      ...      ...    ...    ...     ...       ...      ...      ...  ...   \n",
       "1305  female      NaN    1.0    0.0    2665   14.4542      NaN        C  NaN   \n",
       "1306    male  26.5000    0.0    0.0    2656    7.2250      NaN        C  NaN   \n",
       "1307    male  27.0000    0.0    0.0    2670    7.2250      NaN        C  NaN   \n",
       "1308    male  29.0000    0.0    0.0  315082    7.8750      NaN        S  NaN   \n",
       "1309     NaN      NaN    NaN    NaN     NaN       NaN      NaN      NaN  NaN   \n",
       "\n",
       "       body                        home.dest  \n",
       "0       NaN                     St Louis, MO  \n",
       "1       NaN  Montreal, PQ / Chesterville, ON  \n",
       "2       NaN  Montreal, PQ / Chesterville, ON  \n",
       "3     135.0  Montreal, PQ / Chesterville, ON  \n",
       "4       NaN  Montreal, PQ / Chesterville, ON  \n",
       "...     ...                              ...  \n",
       "1305    NaN                              NaN  \n",
       "1306  304.0                              NaN  \n",
       "1307    NaN                              NaN  \n",
       "1308    NaN                              NaN  \n",
       "1309    NaN                              NaN  \n",
       "\n",
       "[1310 rows x 14 columns]"
      ]
     },
     "execution_count": 6,
     "metadata": {},
     "output_type": "execute_result"
    }
   ],
   "source": [
    "df2 = pd.read_csv('26__titanic.csv', sep=\",\")\n",
    "df2"
   ]
  },
  {
   "cell_type": "markdown",
   "metadata": {},
   "source": [
    "# EDA: Krok 1 - wstępny przegląd danych"
   ]
  },
  {
   "cell_type": "markdown",
   "metadata": {},
   "source": [
    "### Zaczynamy od zmiany nazw kolumn oraz wartości kolumny określającej płeć na język polski, aby łatwiej było nam analizować dane"
   ]
  },
  {
   "cell_type": "code",
   "execution_count": 7,
   "metadata": {},
   "outputs": [],
   "source": [
    "df = df2.copy()\n",
    "df.columns=['nr klasy','czy przeżył','imię','płeć','wiek','l.rodzeńs./małż. na pok.','l.rodzic/dzieci na pok.',\n",
    "             'nr biletu','cena bil.','nr kabiny','pocz. port','nr łodzi rat.','nr ciała','destynacja']\n",
    "#dużo prostsza metoda zamiany kolumn niż .rename(columns={ : })\n",
    "\n",
    "df['płeć'] = df['płeć'].replace({'male':'M','female':'K'})"
   ]
  },
  {
   "cell_type": "markdown",
   "metadata": {},
   "source": [
    "### Sprawdzamy podstawowe dane (częściowe wycinki danych, liczba rekordów, dane numeryczne, czy są duplikaty itd.)"
   ]
  },
  {
   "cell_type": "code",
   "execution_count": 8,
   "metadata": {},
   "outputs": [
    {
     "data": {
      "text/html": [
       "<div>\n",
       "<style scoped>\n",
       "    .dataframe tbody tr th:only-of-type {\n",
       "        vertical-align: middle;\n",
       "    }\n",
       "\n",
       "    .dataframe tbody tr th {\n",
       "        vertical-align: top;\n",
       "    }\n",
       "\n",
       "    .dataframe thead th {\n",
       "        text-align: right;\n",
       "    }\n",
       "</style>\n",
       "<table border=\"1\" class=\"dataframe\">\n",
       "  <thead>\n",
       "    <tr style=\"text-align: right;\">\n",
       "      <th></th>\n",
       "      <th>nr klasy</th>\n",
       "      <th>czy przeżył</th>\n",
       "      <th>imię</th>\n",
       "      <th>płeć</th>\n",
       "      <th>wiek</th>\n",
       "      <th>l.rodzeńs./małż. na pok.</th>\n",
       "      <th>l.rodzic/dzieci na pok.</th>\n",
       "      <th>nr biletu</th>\n",
       "      <th>cena bil.</th>\n",
       "      <th>nr kabiny</th>\n",
       "      <th>pocz. port</th>\n",
       "      <th>nr łodzi rat.</th>\n",
       "      <th>nr ciała</th>\n",
       "      <th>destynacja</th>\n",
       "    </tr>\n",
       "  </thead>\n",
       "  <tbody>\n",
       "    <tr>\n",
       "      <th>0</th>\n",
       "      <td>1.0</td>\n",
       "      <td>1.0</td>\n",
       "      <td>Allen, Miss. Elisabeth Walton</td>\n",
       "      <td>K</td>\n",
       "      <td>29.0000</td>\n",
       "      <td>0.0</td>\n",
       "      <td>0.0</td>\n",
       "      <td>24160</td>\n",
       "      <td>211.3375</td>\n",
       "      <td>B5</td>\n",
       "      <td>S</td>\n",
       "      <td>2</td>\n",
       "      <td>NaN</td>\n",
       "      <td>St Louis, MO</td>\n",
       "    </tr>\n",
       "    <tr>\n",
       "      <th>1</th>\n",
       "      <td>1.0</td>\n",
       "      <td>1.0</td>\n",
       "      <td>Allison, Master. Hudson Trevor</td>\n",
       "      <td>M</td>\n",
       "      <td>0.9167</td>\n",
       "      <td>1.0</td>\n",
       "      <td>2.0</td>\n",
       "      <td>113781</td>\n",
       "      <td>151.5500</td>\n",
       "      <td>C22 C26</td>\n",
       "      <td>S</td>\n",
       "      <td>11</td>\n",
       "      <td>NaN</td>\n",
       "      <td>Montreal, PQ / Chesterville, ON</td>\n",
       "    </tr>\n",
       "    <tr>\n",
       "      <th>2</th>\n",
       "      <td>1.0</td>\n",
       "      <td>0.0</td>\n",
       "      <td>Allison, Miss. Helen Loraine</td>\n",
       "      <td>K</td>\n",
       "      <td>2.0000</td>\n",
       "      <td>1.0</td>\n",
       "      <td>2.0</td>\n",
       "      <td>113781</td>\n",
       "      <td>151.5500</td>\n",
       "      <td>C22 C26</td>\n",
       "      <td>S</td>\n",
       "      <td>NaN</td>\n",
       "      <td>NaN</td>\n",
       "      <td>Montreal, PQ / Chesterville, ON</td>\n",
       "    </tr>\n",
       "    <tr>\n",
       "      <th>3</th>\n",
       "      <td>1.0</td>\n",
       "      <td>0.0</td>\n",
       "      <td>Allison, Mr. Hudson Joshua Creighton</td>\n",
       "      <td>M</td>\n",
       "      <td>30.0000</td>\n",
       "      <td>1.0</td>\n",
       "      <td>2.0</td>\n",
       "      <td>113781</td>\n",
       "      <td>151.5500</td>\n",
       "      <td>C22 C26</td>\n",
       "      <td>S</td>\n",
       "      <td>NaN</td>\n",
       "      <td>135.0</td>\n",
       "      <td>Montreal, PQ / Chesterville, ON</td>\n",
       "    </tr>\n",
       "    <tr>\n",
       "      <th>4</th>\n",
       "      <td>1.0</td>\n",
       "      <td>0.0</td>\n",
       "      <td>Allison, Mrs. Hudson J C (Bessie Waldo Daniels)</td>\n",
       "      <td>K</td>\n",
       "      <td>25.0000</td>\n",
       "      <td>1.0</td>\n",
       "      <td>2.0</td>\n",
       "      <td>113781</td>\n",
       "      <td>151.5500</td>\n",
       "      <td>C22 C26</td>\n",
       "      <td>S</td>\n",
       "      <td>NaN</td>\n",
       "      <td>NaN</td>\n",
       "      <td>Montreal, PQ / Chesterville, ON</td>\n",
       "    </tr>\n",
       "  </tbody>\n",
       "</table>\n",
       "</div>"
      ],
      "text/plain": [
       "   nr klasy  czy przeżył                                             imię  \\\n",
       "0       1.0          1.0                    Allen, Miss. Elisabeth Walton   \n",
       "1       1.0          1.0                   Allison, Master. Hudson Trevor   \n",
       "2       1.0          0.0                     Allison, Miss. Helen Loraine   \n",
       "3       1.0          0.0             Allison, Mr. Hudson Joshua Creighton   \n",
       "4       1.0          0.0  Allison, Mrs. Hudson J C (Bessie Waldo Daniels)   \n",
       "\n",
       "  płeć     wiek  l.rodzeńs./małż. na pok.  l.rodzic/dzieci na pok. nr biletu  \\\n",
       "0    K  29.0000                       0.0                      0.0     24160   \n",
       "1    M   0.9167                       1.0                      2.0    113781   \n",
       "2    K   2.0000                       1.0                      2.0    113781   \n",
       "3    M  30.0000                       1.0                      2.0    113781   \n",
       "4    K  25.0000                       1.0                      2.0    113781   \n",
       "\n",
       "   cena bil. nr kabiny pocz. port nr łodzi rat.  nr ciała  \\\n",
       "0   211.3375        B5          S             2       NaN   \n",
       "1   151.5500   C22 C26          S            11       NaN   \n",
       "2   151.5500   C22 C26          S           NaN       NaN   \n",
       "3   151.5500   C22 C26          S           NaN     135.0   \n",
       "4   151.5500   C22 C26          S           NaN       NaN   \n",
       "\n",
       "                        destynacja  \n",
       "0                     St Louis, MO  \n",
       "1  Montreal, PQ / Chesterville, ON  \n",
       "2  Montreal, PQ / Chesterville, ON  \n",
       "3  Montreal, PQ / Chesterville, ON  \n",
       "4  Montreal, PQ / Chesterville, ON  "
      ]
     },
     "execution_count": 8,
     "metadata": {},
     "output_type": "execute_result"
    }
   ],
   "source": [
    "df.head(5)"
   ]
  },
  {
   "cell_type": "code",
   "execution_count": 9,
   "metadata": {},
   "outputs": [
    {
     "data": {
      "text/html": [
       "<div>\n",
       "<style scoped>\n",
       "    .dataframe tbody tr th:only-of-type {\n",
       "        vertical-align: middle;\n",
       "    }\n",
       "\n",
       "    .dataframe tbody tr th {\n",
       "        vertical-align: top;\n",
       "    }\n",
       "\n",
       "    .dataframe thead th {\n",
       "        text-align: right;\n",
       "    }\n",
       "</style>\n",
       "<table border=\"1\" class=\"dataframe\">\n",
       "  <thead>\n",
       "    <tr style=\"text-align: right;\">\n",
       "      <th></th>\n",
       "      <th>nr klasy</th>\n",
       "      <th>czy przeżył</th>\n",
       "      <th>imię</th>\n",
       "      <th>płeć</th>\n",
       "      <th>wiek</th>\n",
       "      <th>l.rodzeńs./małż. na pok.</th>\n",
       "      <th>l.rodzic/dzieci na pok.</th>\n",
       "      <th>nr biletu</th>\n",
       "      <th>cena bil.</th>\n",
       "      <th>nr kabiny</th>\n",
       "      <th>pocz. port</th>\n",
       "      <th>nr łodzi rat.</th>\n",
       "      <th>nr ciała</th>\n",
       "      <th>destynacja</th>\n",
       "    </tr>\n",
       "  </thead>\n",
       "  <tbody>\n",
       "    <tr>\n",
       "      <th>1305</th>\n",
       "      <td>3.0</td>\n",
       "      <td>0.0</td>\n",
       "      <td>Zabour, Miss. Thamine</td>\n",
       "      <td>K</td>\n",
       "      <td>NaN</td>\n",
       "      <td>1.0</td>\n",
       "      <td>0.0</td>\n",
       "      <td>2665</td>\n",
       "      <td>14.4542</td>\n",
       "      <td>NaN</td>\n",
       "      <td>C</td>\n",
       "      <td>NaN</td>\n",
       "      <td>NaN</td>\n",
       "      <td>NaN</td>\n",
       "    </tr>\n",
       "    <tr>\n",
       "      <th>1306</th>\n",
       "      <td>3.0</td>\n",
       "      <td>0.0</td>\n",
       "      <td>Zakarian, Mr. Mapriededer</td>\n",
       "      <td>M</td>\n",
       "      <td>26.5</td>\n",
       "      <td>0.0</td>\n",
       "      <td>0.0</td>\n",
       "      <td>2656</td>\n",
       "      <td>7.2250</td>\n",
       "      <td>NaN</td>\n",
       "      <td>C</td>\n",
       "      <td>NaN</td>\n",
       "      <td>304.0</td>\n",
       "      <td>NaN</td>\n",
       "    </tr>\n",
       "    <tr>\n",
       "      <th>1307</th>\n",
       "      <td>3.0</td>\n",
       "      <td>0.0</td>\n",
       "      <td>Zakarian, Mr. Ortin</td>\n",
       "      <td>M</td>\n",
       "      <td>27.0</td>\n",
       "      <td>0.0</td>\n",
       "      <td>0.0</td>\n",
       "      <td>2670</td>\n",
       "      <td>7.2250</td>\n",
       "      <td>NaN</td>\n",
       "      <td>C</td>\n",
       "      <td>NaN</td>\n",
       "      <td>NaN</td>\n",
       "      <td>NaN</td>\n",
       "    </tr>\n",
       "    <tr>\n",
       "      <th>1308</th>\n",
       "      <td>3.0</td>\n",
       "      <td>0.0</td>\n",
       "      <td>Zimmerman, Mr. Leo</td>\n",
       "      <td>M</td>\n",
       "      <td>29.0</td>\n",
       "      <td>0.0</td>\n",
       "      <td>0.0</td>\n",
       "      <td>315082</td>\n",
       "      <td>7.8750</td>\n",
       "      <td>NaN</td>\n",
       "      <td>S</td>\n",
       "      <td>NaN</td>\n",
       "      <td>NaN</td>\n",
       "      <td>NaN</td>\n",
       "    </tr>\n",
       "    <tr>\n",
       "      <th>1309</th>\n",
       "      <td>NaN</td>\n",
       "      <td>NaN</td>\n",
       "      <td>NaN</td>\n",
       "      <td>NaN</td>\n",
       "      <td>NaN</td>\n",
       "      <td>NaN</td>\n",
       "      <td>NaN</td>\n",
       "      <td>NaN</td>\n",
       "      <td>NaN</td>\n",
       "      <td>NaN</td>\n",
       "      <td>NaN</td>\n",
       "      <td>NaN</td>\n",
       "      <td>NaN</td>\n",
       "      <td>NaN</td>\n",
       "    </tr>\n",
       "  </tbody>\n",
       "</table>\n",
       "</div>"
      ],
      "text/plain": [
       "      nr klasy  czy przeżył                       imię płeć  wiek  \\\n",
       "1305       3.0          0.0      Zabour, Miss. Thamine    K   NaN   \n",
       "1306       3.0          0.0  Zakarian, Mr. Mapriededer    M  26.5   \n",
       "1307       3.0          0.0        Zakarian, Mr. Ortin    M  27.0   \n",
       "1308       3.0          0.0         Zimmerman, Mr. Leo    M  29.0   \n",
       "1309       NaN          NaN                        NaN  NaN   NaN   \n",
       "\n",
       "      l.rodzeńs./małż. na pok.  l.rodzic/dzieci na pok. nr biletu  cena bil.  \\\n",
       "1305                       1.0                      0.0      2665    14.4542   \n",
       "1306                       0.0                      0.0      2656     7.2250   \n",
       "1307                       0.0                      0.0      2670     7.2250   \n",
       "1308                       0.0                      0.0    315082     7.8750   \n",
       "1309                       NaN                      NaN       NaN        NaN   \n",
       "\n",
       "     nr kabiny pocz. port nr łodzi rat.  nr ciała destynacja  \n",
       "1305       NaN          C           NaN       NaN        NaN  \n",
       "1306       NaN          C           NaN     304.0        NaN  \n",
       "1307       NaN          C           NaN       NaN        NaN  \n",
       "1308       NaN          S           NaN       NaN        NaN  \n",
       "1309       NaN        NaN           NaN       NaN        NaN  "
      ]
     },
     "execution_count": 9,
     "metadata": {},
     "output_type": "execute_result"
    }
   ],
   "source": [
    "df.tail(5)"
   ]
  },
  {
   "cell_type": "code",
   "execution_count": 10,
   "metadata": {},
   "outputs": [
    {
     "data": {
      "text/plain": [
       "(1310, 14)"
      ]
     },
     "execution_count": 10,
     "metadata": {},
     "output_type": "execute_result"
    }
   ],
   "source": [
    "df.shape"
   ]
  },
  {
   "cell_type": "code",
   "execution_count": 11,
   "metadata": {},
   "outputs": [
    {
     "data": {
      "text/plain": [
       "0"
      ]
     },
     "execution_count": 11,
     "metadata": {},
     "output_type": "execute_result"
    }
   ],
   "source": [
    "df.duplicated().sum()"
   ]
  },
  {
   "cell_type": "markdown",
   "metadata": {},
   "source": [
    "### - widzimy, że mamy w sumie 14 kolumn i 1310 rekordów, a w zasadzie 1310 osób.\n",
    "### - dane nie mają duplikatów."
   ]
  },
  {
   "cell_type": "markdown",
   "metadata": {},
   "source": [
    "### Sprawdzimy jeszcze losowo próbkę danych:"
   ]
  },
  {
   "cell_type": "code",
   "execution_count": 12,
   "metadata": {},
   "outputs": [
    {
     "data": {
      "text/html": [
       "<div>\n",
       "<style scoped>\n",
       "    .dataframe tbody tr th:only-of-type {\n",
       "        vertical-align: middle;\n",
       "    }\n",
       "\n",
       "    .dataframe tbody tr th {\n",
       "        vertical-align: top;\n",
       "    }\n",
       "\n",
       "    .dataframe thead th {\n",
       "        text-align: right;\n",
       "    }\n",
       "</style>\n",
       "<table border=\"1\" class=\"dataframe\">\n",
       "  <thead>\n",
       "    <tr style=\"text-align: right;\">\n",
       "      <th></th>\n",
       "      <th>nr klasy</th>\n",
       "      <th>czy przeżył</th>\n",
       "      <th>imię</th>\n",
       "      <th>płeć</th>\n",
       "      <th>wiek</th>\n",
       "      <th>l.rodzeńs./małż. na pok.</th>\n",
       "      <th>l.rodzic/dzieci na pok.</th>\n",
       "      <th>nr biletu</th>\n",
       "      <th>cena bil.</th>\n",
       "      <th>nr kabiny</th>\n",
       "      <th>pocz. port</th>\n",
       "      <th>nr łodzi rat.</th>\n",
       "      <th>nr ciała</th>\n",
       "      <th>destynacja</th>\n",
       "    </tr>\n",
       "  </thead>\n",
       "  <tbody>\n",
       "    <tr>\n",
       "      <th>87</th>\n",
       "      <td>1.0</td>\n",
       "      <td>1.0</td>\n",
       "      <td>Daniel, Mr. Robert Williams</td>\n",
       "      <td>M</td>\n",
       "      <td>27.0</td>\n",
       "      <td>0.0</td>\n",
       "      <td>0.0</td>\n",
       "      <td>113804</td>\n",
       "      <td>30.5000</td>\n",
       "      <td>NaN</td>\n",
       "      <td>S</td>\n",
       "      <td>3</td>\n",
       "      <td>NaN</td>\n",
       "      <td>Philadelphia, PA</td>\n",
       "    </tr>\n",
       "    <tr>\n",
       "      <th>574</th>\n",
       "      <td>2.0</td>\n",
       "      <td>0.0</td>\n",
       "      <td>Turpin, Mr. William John Robert</td>\n",
       "      <td>M</td>\n",
       "      <td>29.0</td>\n",
       "      <td>1.0</td>\n",
       "      <td>0.0</td>\n",
       "      <td>11668</td>\n",
       "      <td>21.0000</td>\n",
       "      <td>NaN</td>\n",
       "      <td>S</td>\n",
       "      <td>NaN</td>\n",
       "      <td>NaN</td>\n",
       "      <td>Plymouth, England</td>\n",
       "    </tr>\n",
       "    <tr>\n",
       "      <th>249</th>\n",
       "      <td>1.0</td>\n",
       "      <td>1.0</td>\n",
       "      <td>Ryerson, Master. John Borie</td>\n",
       "      <td>M</td>\n",
       "      <td>13.0</td>\n",
       "      <td>2.0</td>\n",
       "      <td>2.0</td>\n",
       "      <td>PC 17608</td>\n",
       "      <td>262.3750</td>\n",
       "      <td>B57 B59 B63 B66</td>\n",
       "      <td>C</td>\n",
       "      <td>4</td>\n",
       "      <td>NaN</td>\n",
       "      <td>Haverford, PA / Cooperstown, NY</td>\n",
       "    </tr>\n",
       "    <tr>\n",
       "      <th>94</th>\n",
       "      <td>1.0</td>\n",
       "      <td>1.0</td>\n",
       "      <td>Dodge, Master. Washington</td>\n",
       "      <td>M</td>\n",
       "      <td>4.0</td>\n",
       "      <td>0.0</td>\n",
       "      <td>2.0</td>\n",
       "      <td>33638</td>\n",
       "      <td>81.8583</td>\n",
       "      <td>A34</td>\n",
       "      <td>S</td>\n",
       "      <td>5</td>\n",
       "      <td>NaN</td>\n",
       "      <td>San Francisco, CA</td>\n",
       "    </tr>\n",
       "    <tr>\n",
       "      <th>735</th>\n",
       "      <td>3.0</td>\n",
       "      <td>1.0</td>\n",
       "      <td>Coutts, Mrs. William (Winnie \"Minnie\" Treanor)</td>\n",
       "      <td>K</td>\n",
       "      <td>36.0</td>\n",
       "      <td>0.0</td>\n",
       "      <td>2.0</td>\n",
       "      <td>C.A. 37671</td>\n",
       "      <td>15.9000</td>\n",
       "      <td>NaN</td>\n",
       "      <td>S</td>\n",
       "      <td>2</td>\n",
       "      <td>NaN</td>\n",
       "      <td>England Brooklyn, NY</td>\n",
       "    </tr>\n",
       "    <tr>\n",
       "      <th>880</th>\n",
       "      <td>3.0</td>\n",
       "      <td>1.0</td>\n",
       "      <td>Jalsevac, Mr. Ivan</td>\n",
       "      <td>M</td>\n",
       "      <td>29.0</td>\n",
       "      <td>0.0</td>\n",
       "      <td>0.0</td>\n",
       "      <td>349240</td>\n",
       "      <td>7.8958</td>\n",
       "      <td>NaN</td>\n",
       "      <td>C</td>\n",
       "      <td>15</td>\n",
       "      <td>NaN</td>\n",
       "      <td>NaN</td>\n",
       "    </tr>\n",
       "    <tr>\n",
       "      <th>42</th>\n",
       "      <td>1.0</td>\n",
       "      <td>1.0</td>\n",
       "      <td>Brown, Mrs. John Murray (Caroline Lane Lamson)</td>\n",
       "      <td>K</td>\n",
       "      <td>59.0</td>\n",
       "      <td>2.0</td>\n",
       "      <td>0.0</td>\n",
       "      <td>11769</td>\n",
       "      <td>51.4792</td>\n",
       "      <td>C101</td>\n",
       "      <td>S</td>\n",
       "      <td>D</td>\n",
       "      <td>NaN</td>\n",
       "      <td>Belmont, MA</td>\n",
       "    </tr>\n",
       "    <tr>\n",
       "      <th>104</th>\n",
       "      <td>1.0</td>\n",
       "      <td>1.0</td>\n",
       "      <td>Eustis, Miss. Elizabeth Mussey</td>\n",
       "      <td>K</td>\n",
       "      <td>54.0</td>\n",
       "      <td>1.0</td>\n",
       "      <td>0.0</td>\n",
       "      <td>36947</td>\n",
       "      <td>78.2667</td>\n",
       "      <td>D20</td>\n",
       "      <td>C</td>\n",
       "      <td>4</td>\n",
       "      <td>NaN</td>\n",
       "      <td>Brookline, MA</td>\n",
       "    </tr>\n",
       "    <tr>\n",
       "      <th>840</th>\n",
       "      <td>3.0</td>\n",
       "      <td>0.0</td>\n",
       "      <td>Haas, Miss. Aloisia</td>\n",
       "      <td>K</td>\n",
       "      <td>24.0</td>\n",
       "      <td>0.0</td>\n",
       "      <td>0.0</td>\n",
       "      <td>349236</td>\n",
       "      <td>8.8500</td>\n",
       "      <td>NaN</td>\n",
       "      <td>S</td>\n",
       "      <td>NaN</td>\n",
       "      <td>NaN</td>\n",
       "      <td>NaN</td>\n",
       "    </tr>\n",
       "    <tr>\n",
       "      <th>286</th>\n",
       "      <td>1.0</td>\n",
       "      <td>0.0</td>\n",
       "      <td>Straus, Mrs. Isidor (Rosalie Ida Blun)</td>\n",
       "      <td>K</td>\n",
       "      <td>63.0</td>\n",
       "      <td>1.0</td>\n",
       "      <td>0.0</td>\n",
       "      <td>PC 17483</td>\n",
       "      <td>221.7792</td>\n",
       "      <td>C55 C57</td>\n",
       "      <td>S</td>\n",
       "      <td>NaN</td>\n",
       "      <td>NaN</td>\n",
       "      <td>New York, NY</td>\n",
       "    </tr>\n",
       "  </tbody>\n",
       "</table>\n",
       "</div>"
      ],
      "text/plain": [
       "     nr klasy  czy przeżył                                            imię  \\\n",
       "87        1.0          1.0                     Daniel, Mr. Robert Williams   \n",
       "574       2.0          0.0                 Turpin, Mr. William John Robert   \n",
       "249       1.0          1.0                     Ryerson, Master. John Borie   \n",
       "94        1.0          1.0                       Dodge, Master. Washington   \n",
       "735       3.0          1.0  Coutts, Mrs. William (Winnie \"Minnie\" Treanor)   \n",
       "880       3.0          1.0                              Jalsevac, Mr. Ivan   \n",
       "42        1.0          1.0  Brown, Mrs. John Murray (Caroline Lane Lamson)   \n",
       "104       1.0          1.0                  Eustis, Miss. Elizabeth Mussey   \n",
       "840       3.0          0.0                             Haas, Miss. Aloisia   \n",
       "286       1.0          0.0          Straus, Mrs. Isidor (Rosalie Ida Blun)   \n",
       "\n",
       "    płeć  wiek  l.rodzeńs./małż. na pok.  l.rodzic/dzieci na pok.   nr biletu  \\\n",
       "87     M  27.0                       0.0                      0.0      113804   \n",
       "574    M  29.0                       1.0                      0.0       11668   \n",
       "249    M  13.0                       2.0                      2.0    PC 17608   \n",
       "94     M   4.0                       0.0                      2.0       33638   \n",
       "735    K  36.0                       0.0                      2.0  C.A. 37671   \n",
       "880    M  29.0                       0.0                      0.0      349240   \n",
       "42     K  59.0                       2.0                      0.0       11769   \n",
       "104    K  54.0                       1.0                      0.0       36947   \n",
       "840    K  24.0                       0.0                      0.0      349236   \n",
       "286    K  63.0                       1.0                      0.0    PC 17483   \n",
       "\n",
       "     cena bil.        nr kabiny pocz. port nr łodzi rat.  nr ciała  \\\n",
       "87     30.5000              NaN          S             3       NaN   \n",
       "574    21.0000              NaN          S           NaN       NaN   \n",
       "249   262.3750  B57 B59 B63 B66          C             4       NaN   \n",
       "94     81.8583              A34          S             5       NaN   \n",
       "735    15.9000              NaN          S             2       NaN   \n",
       "880     7.8958              NaN          C            15       NaN   \n",
       "42     51.4792             C101          S             D       NaN   \n",
       "104    78.2667              D20          C             4       NaN   \n",
       "840     8.8500              NaN          S           NaN       NaN   \n",
       "286   221.7792          C55 C57          S           NaN       NaN   \n",
       "\n",
       "                          destynacja  \n",
       "87                  Philadelphia, PA  \n",
       "574                Plymouth, England  \n",
       "249  Haverford, PA / Cooperstown, NY  \n",
       "94                 San Francisco, CA  \n",
       "735             England Brooklyn, NY  \n",
       "880                              NaN  \n",
       "42                       Belmont, MA  \n",
       "104                    Brookline, MA  \n",
       "840                              NaN  \n",
       "286                     New York, NY  "
      ]
     },
     "execution_count": 12,
     "metadata": {},
     "output_type": "execute_result"
    }
   ],
   "source": [
    "df.sample(10)"
   ]
  },
  {
   "cell_type": "markdown",
   "metadata": {},
   "source": [
    "### - na podstawie tej próbki możemy faktycznie zauważyć, że mamy pełen przekrój danych, zarówno imiona i nazwiska pasażerów, czy mieli bliskich na pokładzie, czy przeżyli, jaki nr klasy, cena biletu, skąd dokąd podróżowali i wiele innych informacji. "
   ]
  },
  {
   "cell_type": "markdown",
   "metadata": {},
   "source": [
    "### - możemy też od razu dostrzec, że pojawiają się brakujące dane 'NaN', które będziemy dalej eksplorować w kolejnym kroku"
   ]
  },
  {
   "cell_type": "markdown",
   "metadata": {},
   "source": [
    "# EDA: Krok 2 - sprawdzenie brakujących wartości"
   ]
  },
  {
   "cell_type": "code",
   "execution_count": 13,
   "metadata": {},
   "outputs": [
    {
     "data": {
      "text/plain": [
       "nr klasy                       1\n",
       "czy przeżył                    1\n",
       "imię                           1\n",
       "płeć                           1\n",
       "wiek                         264\n",
       "l.rodzeńs./małż. na pok.       1\n",
       "l.rodzic/dzieci na pok.        1\n",
       "nr biletu                      1\n",
       "cena bil.                      2\n",
       "nr kabiny                   1015\n",
       "pocz. port                     3\n",
       "nr łodzi rat.                824\n",
       "nr ciała                    1189\n",
       "destynacja                   565\n",
       "dtype: int64"
      ]
     },
     "execution_count": 13,
     "metadata": {},
     "output_type": "execute_result"
    }
   ],
   "source": [
    "#odpalamy kod na wyliczenie brakujących wartości \n",
    "df.isnull().sum()"
   ]
  },
  {
   "cell_type": "code",
   "execution_count": 14,
   "metadata": {},
   "outputs": [
    {
     "data": {
      "text/html": [
       "<div>\n",
       "<style scoped>\n",
       "    .dataframe tbody tr th:only-of-type {\n",
       "        vertical-align: middle;\n",
       "    }\n",
       "\n",
       "    .dataframe tbody tr th {\n",
       "        vertical-align: top;\n",
       "    }\n",
       "\n",
       "    .dataframe thead th {\n",
       "        text-align: right;\n",
       "    }\n",
       "</style>\n",
       "<table border=\"1\" class=\"dataframe\">\n",
       "  <thead>\n",
       "    <tr style=\"text-align: right;\">\n",
       "      <th></th>\n",
       "      <th>nr klasy</th>\n",
       "      <th>czy przeżył</th>\n",
       "      <th>imię</th>\n",
       "      <th>płeć</th>\n",
       "      <th>wiek</th>\n",
       "      <th>l.rodzeńs./małż. na pok.</th>\n",
       "      <th>l.rodzic/dzieci na pok.</th>\n",
       "      <th>nr biletu</th>\n",
       "      <th>cena bil.</th>\n",
       "      <th>nr kabiny</th>\n",
       "      <th>pocz. port</th>\n",
       "      <th>nr łodzi rat.</th>\n",
       "      <th>nr ciała</th>\n",
       "      <th>destynacja</th>\n",
       "    </tr>\n",
       "  </thead>\n",
       "  <tbody>\n",
       "    <tr>\n",
       "      <th>1309</th>\n",
       "      <td>NaN</td>\n",
       "      <td>NaN</td>\n",
       "      <td>NaN</td>\n",
       "      <td>NaN</td>\n",
       "      <td>NaN</td>\n",
       "      <td>NaN</td>\n",
       "      <td>NaN</td>\n",
       "      <td>NaN</td>\n",
       "      <td>NaN</td>\n",
       "      <td>NaN</td>\n",
       "      <td>NaN</td>\n",
       "      <td>NaN</td>\n",
       "      <td>NaN</td>\n",
       "      <td>NaN</td>\n",
       "    </tr>\n",
       "  </tbody>\n",
       "</table>\n",
       "</div>"
      ],
      "text/plain": [
       "      nr klasy  czy przeżył imię płeć  wiek  l.rodzeńs./małż. na pok.  \\\n",
       "1309       NaN          NaN  NaN  NaN   NaN                       NaN   \n",
       "\n",
       "      l.rodzic/dzieci na pok. nr biletu  cena bil. nr kabiny pocz. port  \\\n",
       "1309                      NaN       NaN        NaN       NaN        NaN   \n",
       "\n",
       "     nr łodzi rat.  nr ciała destynacja  \n",
       "1309           NaN       NaN        NaN  "
      ]
     },
     "execution_count": 14,
     "metadata": {},
     "output_type": "execute_result"
    }
   ],
   "source": [
    "#sprawdzamy czy nie ma sytuacji, gdzie jakiś rekord ma same brakujące wartości (wówczas usuniemy)\n",
    "df[df.isna().all(axis=1)]"
   ]
  },
  {
   "cell_type": "code",
   "execution_count": 15,
   "metadata": {},
   "outputs": [],
   "source": [
    "# mamy go! to wiesz indeksu 1309 - usuwamy! \n",
    "df = df.drop(index=1309)"
   ]
  },
  {
   "cell_type": "code",
   "execution_count": 16,
   "metadata": {},
   "outputs": [
    {
     "data": {
      "text/plain": [
       "(1309, 14)"
      ]
     },
     "execution_count": 16,
     "metadata": {},
     "output_type": "execute_result"
    }
   ],
   "source": [
    "df.shape # mamy teraz 1309, a wcześniej było 1310. Zgadza się i pozbyliśmy się zbędnego wiesza. Mamy dane 1309 osób."
   ]
  },
  {
   "cell_type": "code",
   "execution_count": 17,
   "metadata": {},
   "outputs": [
    {
     "data": {
      "text/plain": [
       "nr klasy                       0\n",
       "czy przeżył                    0\n",
       "imię                           0\n",
       "płeć                           0\n",
       "wiek                         263\n",
       "l.rodzeńs./małż. na pok.       0\n",
       "l.rodzic/dzieci na pok.        0\n",
       "nr biletu                      0\n",
       "cena bil.                      1\n",
       "nr kabiny                   1014\n",
       "pocz. port                     2\n",
       "nr łodzi rat.                823\n",
       "nr ciała                    1188\n",
       "destynacja                   564\n",
       "dtype: int64"
      ]
     },
     "execution_count": 17,
     "metadata": {},
     "output_type": "execute_result"
    }
   ],
   "source": [
    "df.isnull().sum() #wygląda to dużo lepiej."
   ]
  },
  {
   "cell_type": "code",
   "execution_count": 18,
   "metadata": {},
   "outputs": [
    {
     "data": {
      "text/plain": [
       "<Axes: >"
      ]
     },
     "execution_count": 18,
     "metadata": {},
     "output_type": "execute_result"
    },
    {
     "data": {
      "image/png": "[encoded data removed]",
      "text/plain": [
       "<Figure size 640x480 with 1 Axes>"
      ]
     },
     "metadata": {},
     "output_type": "display_data"
    }
   ],
   "source": [
    "# przedstawiamy wyniki w postaci poziomego wykresu\n",
    "w = df.isnull().sum()\n",
    "w.plot(kind='barh')"
   ]
  },
  {
   "cell_type": "markdown",
   "metadata": {},
   "source": [
    "## OBSERWACJE: "
   ]
  },
  {
   "cell_type": "markdown",
   "metadata": {},
   "source": [
    "### - wizualizacja pokazuje, że najwięcej brakuje w kolumnach: nr ciała, nr kabiny, nr łodzi ratunkowej czy destynacji\n",
    "### - brak numerów ciał może wynikać z faktu, że wiele ciał nie zostało odnalezionych \n",
    "### - pozostałe braki spróbujemy zbadać dalej w kolejnych etapach analizy (ostatni krok)"
   ]
  },
  {
   "cell_type": "markdown",
   "metadata": {},
   "source": [
    "# EDA: Krok 3 - badanie pojedynczych zmiennych / kolumn"
   ]
  },
  {
   "cell_type": "code",
   "execution_count": 19,
   "metadata": {},
   "outputs": [
    {
     "data": {
      "text/plain": [
       "czy przeżył\n",
       "0.0    809\n",
       "1.0    500\n",
       "Name: count, dtype: int64"
      ]
     },
     "execution_count": 19,
     "metadata": {},
     "output_type": "execute_result"
    }
   ],
   "source": [
    "#sprawdzamy poszczególne zmienne jak się zachowują, zaczniemy od kolumny 'czy przeżył'\n",
    "df['czy przeżył'].value_counts()"
   ]
  },
  {
   "cell_type": "markdown",
   "metadata": {},
   "source": [
    "## OBSERWACJE: "
   ]
  },
  {
   "cell_type": "markdown",
   "metadata": {},
   "source": [
    "### - widzimy, że z liczby gości na statku, których dane udało się pozyskać przeżyło tylko 500 osób, a nie przeżyło aż 809 \n",
    "### - gdyby doliczyć osoby ze statku, o których nie mamy dokładnych informacji, te liczby będą się różniły"
   ]
  },
  {
   "cell_type": "code",
   "execution_count": 20,
   "metadata": {},
   "outputs": [
    {
     "data": {
      "text/plain": [
       "płeć\n",
       "M    843\n",
       "K    466\n",
       "Name: count, dtype: int64"
      ]
     },
     "execution_count": 20,
     "metadata": {},
     "output_type": "execute_result"
    }
   ],
   "source": [
    "df['płeć'].value_counts() #sprawdzamy ile ogólnie kobiet i mężczyn było z danych o których wiemy"
   ]
  },
  {
   "cell_type": "code",
   "execution_count": 22,
   "metadata": {},
   "outputs": [
    {
     "data": {
      "image/png": "[encoded data removed]",
      "text/plain": [
       "<Figure size 640x480 with 1 Axes>"
      ]
     },
     "metadata": {},
     "output_type": "display_data"
    }
   ],
   "source": [
    "#sprawdzamy jaki był rozkład procentowy kobiet i mężczyzn na pokładzie, o których wiemy:\n",
    "df['płeć'].value_counts().plot(kind='pie',title='ile % kobiet i ile % mężczyzn ogólnie',autopct='%1.1f%%', legend=True); "
   ]
  },
  {
   "cell_type": "markdown",
   "metadata": {},
   "source": [
    "## OBSERWACJE: "
   ]
  },
  {
   "cell_type": "markdown",
   "metadata": {},
   "source": [
    "### - 64,4% gości o których wiemy stanowili mężczyźni (M), a w mniejszości były kobiety (K) stanowiąc 35,6% \n",
    "### - nie znamy dokładnej liczby wszystkich kobiet i mężczyzn, gdyż w kolumnach dot. bliskich mamy tylko liczbę osób towarzyszących bez ich właściwych danych o płci"
   ]
  },
  {
   "cell_type": "markdown",
   "metadata": {},
   "source": [
    "# EDA: Krok 4 - transformacja danych / naprawa danych"
   ]
  },
  {
   "cell_type": "code",
   "execution_count": 23,
   "metadata": {},
   "outputs": [
    {
     "data": {
      "text/html": [
       "<div>\n",
       "<style scoped>\n",
       "    .dataframe tbody tr th:only-of-type {\n",
       "        vertical-align: middle;\n",
       "    }\n",
       "\n",
       "    .dataframe tbody tr th {\n",
       "        vertical-align: top;\n",
       "    }\n",
       "\n",
       "    .dataframe thead th {\n",
       "        text-align: right;\n",
       "    }\n",
       "</style>\n",
       "<table border=\"1\" class=\"dataframe\">\n",
       "  <thead>\n",
       "    <tr style=\"text-align: right;\">\n",
       "      <th></th>\n",
       "      <th>nr klasy</th>\n",
       "      <th>czy przeżył</th>\n",
       "      <th>imię</th>\n",
       "      <th>płeć</th>\n",
       "      <th>wiek</th>\n",
       "      <th>l.rodzeńs./małż. na pok.</th>\n",
       "      <th>l.rodzic/dzieci na pok.</th>\n",
       "      <th>nr biletu</th>\n",
       "      <th>cena bil.</th>\n",
       "      <th>nr kabiny</th>\n",
       "      <th>pocz. port</th>\n",
       "      <th>nr łodzi rat.</th>\n",
       "      <th>nr ciała</th>\n",
       "      <th>destynacja</th>\n",
       "    </tr>\n",
       "  </thead>\n",
       "  <tbody>\n",
       "    <tr>\n",
       "      <th>806</th>\n",
       "      <td>3.0</td>\n",
       "      <td>0.0</td>\n",
       "      <td>Ford, Miss. Doolina Margaret \"Daisy\"</td>\n",
       "      <td>K</td>\n",
       "      <td>21.0</td>\n",
       "      <td>2.0</td>\n",
       "      <td>2.0</td>\n",
       "      <td>W./C. 6608</td>\n",
       "      <td>34.375</td>\n",
       "      <td>NaN</td>\n",
       "      <td>S</td>\n",
       "      <td>NaN</td>\n",
       "      <td>NaN</td>\n",
       "      <td>Rotherfield, Sussex, England Essex Co, MA</td>\n",
       "    </tr>\n",
       "    <tr>\n",
       "      <th>807</th>\n",
       "      <td>3.0</td>\n",
       "      <td>0.0</td>\n",
       "      <td>Ford, Miss. Robina Maggie \"Ruby\"</td>\n",
       "      <td>K</td>\n",
       "      <td>9.0</td>\n",
       "      <td>2.0</td>\n",
       "      <td>2.0</td>\n",
       "      <td>W./C. 6608</td>\n",
       "      <td>34.375</td>\n",
       "      <td>NaN</td>\n",
       "      <td>S</td>\n",
       "      <td>NaN</td>\n",
       "      <td>NaN</td>\n",
       "      <td>Rotherfield, Sussex, England Essex Co, MA</td>\n",
       "    </tr>\n",
       "    <tr>\n",
       "      <th>809</th>\n",
       "      <td>3.0</td>\n",
       "      <td>0.0</td>\n",
       "      <td>Ford, Mr. Edward Watson</td>\n",
       "      <td>M</td>\n",
       "      <td>18.0</td>\n",
       "      <td>2.0</td>\n",
       "      <td>2.0</td>\n",
       "      <td>W./C. 6608</td>\n",
       "      <td>34.375</td>\n",
       "      <td>NaN</td>\n",
       "      <td>S</td>\n",
       "      <td>NaN</td>\n",
       "      <td>NaN</td>\n",
       "      <td>Rotherfield, Sussex, England Essex Co, MA</td>\n",
       "    </tr>\n",
       "    <tr>\n",
       "      <th>810</th>\n",
       "      <td>3.0</td>\n",
       "      <td>0.0</td>\n",
       "      <td>Ford, Mr. William Neal</td>\n",
       "      <td>M</td>\n",
       "      <td>16.0</td>\n",
       "      <td>1.0</td>\n",
       "      <td>3.0</td>\n",
       "      <td>W./C. 6608</td>\n",
       "      <td>34.375</td>\n",
       "      <td>NaN</td>\n",
       "      <td>S</td>\n",
       "      <td>NaN</td>\n",
       "      <td>NaN</td>\n",
       "      <td>Rotherfield, Sussex, England Essex Co, MA</td>\n",
       "    </tr>\n",
       "    <tr>\n",
       "      <th>811</th>\n",
       "      <td>3.0</td>\n",
       "      <td>0.0</td>\n",
       "      <td>Ford, Mrs. Edward (Margaret Ann Watson)</td>\n",
       "      <td>K</td>\n",
       "      <td>48.0</td>\n",
       "      <td>1.0</td>\n",
       "      <td>3.0</td>\n",
       "      <td>W./C. 6608</td>\n",
       "      <td>34.375</td>\n",
       "      <td>NaN</td>\n",
       "      <td>S</td>\n",
       "      <td>NaN</td>\n",
       "      <td>NaN</td>\n",
       "      <td>Rotherfield, Sussex, England Essex Co, MA</td>\n",
       "    </tr>\n",
       "  </tbody>\n",
       "</table>\n",
       "</div>"
      ],
      "text/plain": [
       "     nr klasy  czy przeżył                                     imię płeć  \\\n",
       "806       3.0          0.0     Ford, Miss. Doolina Margaret \"Daisy\"    K   \n",
       "807       3.0          0.0         Ford, Miss. Robina Maggie \"Ruby\"    K   \n",
       "809       3.0          0.0                  Ford, Mr. Edward Watson    M   \n",
       "810       3.0          0.0                   Ford, Mr. William Neal    M   \n",
       "811       3.0          0.0  Ford, Mrs. Edward (Margaret Ann Watson)    K   \n",
       "\n",
       "     wiek  l.rodzeńs./małż. na pok.  l.rodzic/dzieci na pok.   nr biletu  \\\n",
       "806  21.0                       2.0                      2.0  W./C. 6608   \n",
       "807   9.0                       2.0                      2.0  W./C. 6608   \n",
       "809  18.0                       2.0                      2.0  W./C. 6608   \n",
       "810  16.0                       1.0                      3.0  W./C. 6608   \n",
       "811  48.0                       1.0                      3.0  W./C. 6608   \n",
       "\n",
       "     cena bil. nr kabiny pocz. port nr łodzi rat.  nr ciała  \\\n",
       "806     34.375       NaN          S           NaN       NaN   \n",
       "807     34.375       NaN          S           NaN       NaN   \n",
       "809     34.375       NaN          S           NaN       NaN   \n",
       "810     34.375       NaN          S           NaN       NaN   \n",
       "811     34.375       NaN          S           NaN       NaN   \n",
       "\n",
       "                                    destynacja  \n",
       "806  Rotherfield, Sussex, England Essex Co, MA  \n",
       "807  Rotherfield, Sussex, England Essex Co, MA  \n",
       "809  Rotherfield, Sussex, England Essex Co, MA  \n",
       "810  Rotherfield, Sussex, England Essex Co, MA  \n",
       "811  Rotherfield, Sussex, England Essex Co, MA  "
      ]
     },
     "execution_count": 23,
     "metadata": {},
     "output_type": "execute_result"
    }
   ],
   "source": [
    "df[df['nr biletu'].str.contains('W./C. 6608')]  \n",
    "#tutaj jasno widzimy, że mamy dużo więcej osób na bilecie W./C. 6608 niż powinniśmy"
   ]
  },
  {
   "cell_type": "code",
   "execution_count": 24,
   "metadata": {
    "collapsed": true,
    "jupyter": {
     "outputs_hidden": true
    }
   },
   "outputs": [
    {
     "name": "stderr",
     "output_type": "stream",
     "text": [
      "C:\\Users\\piobpc\\AppData\\Local\\Temp\\ipykernel_15952\\2653871023.py:2: FutureWarning: A value is trying to be set on a copy of a DataFrame or Series through chained assignment using an inplace method.\n",
      "The behavior will change in pandas 3.0. This inplace method will never work because the intermediate object on which we are setting values always behaves as a copy.\n",
      "\n",
      "For example, when doing 'df[col].method(value, inplace=True)', try using 'df.method({col: value}, inplace=True)' or df[col] = df[col].method(value) instead, to perform the operation inplace on the original object.\n",
      "\n",
      "\n",
      "  df['wiek'].fillna(df['wiek'].mean(),inplace=True)\n"
     ]
    }
   ],
   "source": [
    "dfc=df.copy()\n",
    "df['wiek'].fillna(df['wiek'].mean(),inplace=True)"
   ]
  },
  {
   "cell_type": "code",
   "execution_count": 25,
   "metadata": {},
   "outputs": [
    {
     "data": {
      "text/plain": [
       "nr klasy                       0\n",
       "czy przeżył                    0\n",
       "imię                           0\n",
       "płeć                           0\n",
       "wiek                           0\n",
       "l.rodzeńs./małż. na pok.       0\n",
       "l.rodzic/dzieci na pok.        0\n",
       "nr biletu                      0\n",
       "cena bil.                      1\n",
       "nr kabiny                   1014\n",
       "pocz. port                     2\n",
       "nr łodzi rat.                823\n",
       "nr ciała                    1188\n",
       "destynacja                   564\n",
       "dtype: int64"
      ]
     },
     "execution_count": 25,
     "metadata": {},
     "output_type": "execute_result"
    }
   ],
   "source": [
    "df.isnull().sum() #naprawiliśmy wiek wypełniając wartości średnią :)"
   ]
  },
  {
   "cell_type": "markdown",
   "metadata": {},
   "source": [
    "## OBSERWACJE: "
   ]
  },
  {
   "cell_type": "markdown",
   "metadata": {},
   "source": [
    "### - jedyną kolumną, której naprawa na tym etapie wydawała się rozsądna to WIEK"
   ]
  },
  {
   "cell_type": "markdown",
   "metadata": {},
   "source": [
    "# EDA: Krok 5 - badanie korelacji między danymi"
   ]
  },
  {
   "cell_type": "code",
   "execution_count": 26,
   "metadata": {},
   "outputs": [
    {
     "data": {
      "text/html": [
       "<div>\n",
       "<style scoped>\n",
       "    .dataframe tbody tr th:only-of-type {\n",
       "        vertical-align: middle;\n",
       "    }\n",
       "\n",
       "    .dataframe tbody tr th {\n",
       "        vertical-align: top;\n",
       "    }\n",
       "\n",
       "    .dataframe thead th {\n",
       "        text-align: right;\n",
       "    }\n",
       "</style>\n",
       "<table border=\"1\" class=\"dataframe\">\n",
       "  <thead>\n",
       "    <tr style=\"text-align: right;\">\n",
       "      <th></th>\n",
       "      <th>nr klasy</th>\n",
       "      <th>czy przeżył</th>\n",
       "      <th>wiek</th>\n",
       "      <th>l.rodzeńs./małż. na pok.</th>\n",
       "      <th>l.rodzic/dzieci na pok.</th>\n",
       "      <th>cena bil.</th>\n",
       "      <th>nr ciała</th>\n",
       "    </tr>\n",
       "  </thead>\n",
       "  <tbody>\n",
       "    <tr>\n",
       "      <th>nr klasy</th>\n",
       "      <td>1.00</td>\n",
       "      <td>-0.31</td>\n",
       "      <td>-0.37</td>\n",
       "      <td>0.06</td>\n",
       "      <td>0.02</td>\n",
       "      <td>-0.56</td>\n",
       "      <td>-0.03</td>\n",
       "    </tr>\n",
       "    <tr>\n",
       "      <th>czy przeżył</th>\n",
       "      <td>-0.31</td>\n",
       "      <td>1.00</td>\n",
       "      <td>-0.05</td>\n",
       "      <td>-0.03</td>\n",
       "      <td>0.08</td>\n",
       "      <td>0.24</td>\n",
       "      <td>NaN</td>\n",
       "    </tr>\n",
       "    <tr>\n",
       "      <th>wiek</th>\n",
       "      <td>-0.37</td>\n",
       "      <td>-0.05</td>\n",
       "      <td>1.00</td>\n",
       "      <td>-0.19</td>\n",
       "      <td>-0.13</td>\n",
       "      <td>0.17</td>\n",
       "      <td>0.06</td>\n",
       "    </tr>\n",
       "    <tr>\n",
       "      <th>l.rodzeńs./małż. na pok.</th>\n",
       "      <td>0.06</td>\n",
       "      <td>-0.03</td>\n",
       "      <td>-0.19</td>\n",
       "      <td>1.00</td>\n",
       "      <td>0.37</td>\n",
       "      <td>0.16</td>\n",
       "      <td>-0.10</td>\n",
       "    </tr>\n",
       "    <tr>\n",
       "      <th>l.rodzic/dzieci na pok.</th>\n",
       "      <td>0.02</td>\n",
       "      <td>0.08</td>\n",
       "      <td>-0.13</td>\n",
       "      <td>0.37</td>\n",
       "      <td>1.00</td>\n",
       "      <td>0.22</td>\n",
       "      <td>0.05</td>\n",
       "    </tr>\n",
       "    <tr>\n",
       "      <th>cena bil.</th>\n",
       "      <td>-0.56</td>\n",
       "      <td>0.24</td>\n",
       "      <td>0.17</td>\n",
       "      <td>0.16</td>\n",
       "      <td>0.22</td>\n",
       "      <td>1.00</td>\n",
       "      <td>-0.04</td>\n",
       "    </tr>\n",
       "    <tr>\n",
       "      <th>nr ciała</th>\n",
       "      <td>-0.03</td>\n",
       "      <td>NaN</td>\n",
       "      <td>0.06</td>\n",
       "      <td>-0.10</td>\n",
       "      <td>0.05</td>\n",
       "      <td>-0.04</td>\n",
       "      <td>1.00</td>\n",
       "    </tr>\n",
       "  </tbody>\n",
       "</table>\n",
       "</div>"
      ],
      "text/plain": [
       "                          nr klasy  czy przeżył  wiek  \\\n",
       "nr klasy                      1.00        -0.31 -0.37   \n",
       "czy przeżył                  -0.31         1.00 -0.05   \n",
       "wiek                         -0.37        -0.05  1.00   \n",
       "l.rodzeńs./małż. na pok.      0.06        -0.03 -0.19   \n",
       "l.rodzic/dzieci na pok.       0.02         0.08 -0.13   \n",
       "cena bil.                    -0.56         0.24  0.17   \n",
       "nr ciała                     -0.03          NaN  0.06   \n",
       "\n",
       "                          l.rodzeńs./małż. na pok.  l.rodzic/dzieci na pok.  \\\n",
       "nr klasy                                      0.06                     0.02   \n",
       "czy przeżył                                  -0.03                     0.08   \n",
       "wiek                                         -0.19                    -0.13   \n",
       "l.rodzeńs./małż. na pok.                      1.00                     0.37   \n",
       "l.rodzic/dzieci na pok.                       0.37                     1.00   \n",
       "cena bil.                                     0.16                     0.22   \n",
       "nr ciała                                     -0.10                     0.05   \n",
       "\n",
       "                          cena bil.  nr ciała  \n",
       "nr klasy                      -0.56     -0.03  \n",
       "czy przeżył                    0.24       NaN  \n",
       "wiek                           0.17      0.06  \n",
       "l.rodzeńs./małż. na pok.       0.16     -0.10  \n",
       "l.rodzic/dzieci na pok.        0.22      0.05  \n",
       "cena bil.                      1.00     -0.04  \n",
       "nr ciała                      -0.04      1.00  "
      ]
     },
     "execution_count": 26,
     "metadata": {},
     "output_type": "execute_result"
    }
   ],
   "source": [
    "df.corr(numeric_only=True).round(2)"
   ]
  },
  {
   "cell_type": "code",
   "execution_count": 27,
   "metadata": {},
   "outputs": [
    {
     "data": {
      "image/png": "[encoded data removed]",
      "text/plain": [
       "<Figure size 640x480 with 1 Axes>"
      ]
     },
     "metadata": {},
     "output_type": "display_data"
    }
   ],
   "source": [
    "#ogólna macierz korelacji za dużo nam nie pokazuje, spróbujmy pogrupować dane, aby poszukać mocniejszych korelacji\n",
    "#zaczniemy od sprawdzenia jak to wygląda wg płci \n",
    "colors = ['green','red','red','green']\n",
    "df.groupby('płeć')['czy przeżył'].value_counts().plot(kind='bar',title='legenda: k. zielony - przeżyli, k. czerwony - nie przeżyli', color=colors);"
   ]
  },
  {
   "cell_type": "code",
   "execution_count": 28,
   "metadata": {},
   "outputs": [],
   "source": [
    "#widzimy powyżej, że śmiertelność mężczyzn jest dużo wyższa niż kobiet\n",
    "#sprawdzamy jaki był rozkład procentowy kobiet i mężczyzn na pokładzie pod względem statystyk przeżywalności:\n",
    "ile_m_przez = ((df['czy przeżył']==1.0)&(df['płeć']=='M')).sum()\n",
    "ile_k_przez = ((df['czy przeżył']==1.0)&(df['płeć']=='K')).sum()\n",
    "ile_m_przez_pro = ((ile_m_przez / 843)*100).round()\n",
    "ile_k_przez_pro = ((ile_k_przez / 466)*100).round()"
   ]
  },
  {
   "cell_type": "code",
   "execution_count": 29,
   "metadata": {},
   "outputs": [
    {
     "data": {
      "image/png": "[encoded data removed]",
      "text/plain": [
       "<Figure size 640x480 with 1 Axes>"
      ]
     },
     "metadata": {},
     "output_type": "display_data"
    }
   ],
   "source": [
    "kolorki = ['lime','red']\n",
    "etykiety = ['tyle % mężczyzn przeżyło','tyle % mężczyzn zginęło']\n",
    "plt.pie([ile_m_przez, (843-ile_m_przez)], autopct='%1.1f%%', shadow=True, labels=etykiety,colors=kolorki);"
   ]
  },
  {
   "cell_type": "code",
   "execution_count": 30,
   "metadata": {},
   "outputs": [
    {
     "data": {
      "image/png": "[encoded data removed]",
      "text/plain": [
       "<Figure size 640x480 with 1 Axes>"
      ]
     },
     "metadata": {},
     "output_type": "display_data"
    }
   ],
   "source": [
    "etykiety2 = ['tyle % kobiet przeżyło','tyle % kobiet zginęło']\n",
    "plt.pie([ile_k_przez, (466-ile_k_przez)], autopct='%1.1f%%', shadow=True, labels=etykiety2, colors=kolorki);"
   ]
  },
  {
   "cell_type": "markdown",
   "metadata": {},
   "source": [
    "## OBSERWACJE: "
   ]
  },
  {
   "cell_type": "markdown",
   "metadata": {},
   "source": [
    "### - zdecydowanie dużo więcej kobiet przeżyło katastrofę (aż blisko 73% kobiet w porównaniu do 19% mężczyzn). Być może dlatego, że na łodziach ratunkowych pierwszeństwo miały kobiety, a mężczyźni byli drudzy w kolejce do uratowania"
   ]
  },
  {
   "cell_type": "code",
   "execution_count": 31,
   "metadata": {},
   "outputs": [
    {
     "data": {
      "text/plain": [
       "nr klasy\n",
       "1.0    323\n",
       "2.0    277\n",
       "3.0    709\n",
       "Name: czy przeżył, dtype: int64"
      ]
     },
     "execution_count": 31,
     "metadata": {},
     "output_type": "execute_result"
    }
   ],
   "source": [
    "df.groupby('nr klasy')['czy przeżył'].size()"
   ]
  },
  {
   "cell_type": "code",
   "execution_count": 32,
   "metadata": {},
   "outputs": [
    {
     "data": {
      "text/plain": [
       "nr klasy  czy przeżył\n",
       "1.0       1.0            200\n",
       "          0.0            123\n",
       "2.0       0.0            158\n",
       "          1.0            119\n",
       "3.0       0.0            528\n",
       "          1.0            181\n",
       "Name: count, dtype: int64"
      ]
     },
     "execution_count": 32,
     "metadata": {},
     "output_type": "execute_result"
    }
   ],
   "source": [
    "df.groupby('nr klasy')['czy przeżył'].value_counts()"
   ]
  },
  {
   "cell_type": "code",
   "execution_count": 33,
   "metadata": {},
   "outputs": [
    {
     "data": {
      "text/plain": [
       "(61.91950464396285, 42.96028880866426, 25.52891396332863)"
      ]
     },
     "execution_count": 33,
     "metadata": {},
     "output_type": "execute_result"
    }
   ],
   "source": [
    "#sprawdzamy jaki był rozkład procentowy kobiet i mężczyzn na pokładzie, o których wiemy:\n",
    "ile_przez_klasa_1 = (200 / 323) * 100\n",
    "ile_przez_klasa_2 = (119 / 277) * 100\n",
    "ile_przez_klasa_3 = (181 / 709) * 100\n",
    "ile_przez_klasa_1, ile_przez_klasa_2, ile_przez_klasa_3"
   ]
  },
  {
   "cell_type": "code",
   "execution_count": 34,
   "metadata": {},
   "outputs": [
    {
     "data": {
      "image/png": "[encoded data removed]",
      "text/plain": [
       "<Figure size 640x480 with 1 Axes>"
      ]
     },
     "metadata": {},
     "output_type": "display_data"
    }
   ],
   "source": [
    "klasa_przez = {'klasa nr 1':[ile_przez_klasa_1], \n",
    "               'klasa nr 2':[ile_przez_klasa_2],\n",
    "               'klasa nr 3':[ile_przez_klasa_3]}\n",
    "colors = ['lime','limegreen','darkgreen']\n",
    "df_kp = pd.DataFrame(klasa_przez)\n",
    "df_kp.round(2).plot(kind='bar',title='ile % przeżyło wg danej klasy',color=colors);\n"
   ]
  },
  {
   "cell_type": "markdown",
   "metadata": {},
   "source": [
    "## OBSERWACJE: "
   ]
  },
  {
   "cell_type": "markdown",
   "metadata": {},
   "source": [
    "### - powyższa wizualizacja pokazuje korelację między klasą a przeżywalnością: im wyższa klasa tym większa była szansa na przeżycie. Najwięcej procent ocalałych podróżowało klasą nr 1 (blisko 62% pasażerów przeżyło w tej klasie), a najmniejszy klasą nr 3 (tylko ok. 25% przeżyło w tej klasie)"
   ]
  },
  {
   "cell_type": "code",
   "execution_count": 35,
   "metadata": {},
   "outputs": [
    {
     "data": {
      "image/png": "[encoded data removed]",
      "text/plain": [
       "<Figure size 640x480 with 1 Axes>"
      ]
     },
     "metadata": {},
     "output_type": "display_data"
    }
   ],
   "source": [
    "#sprawdzimy jeszcze jak ma się wiek do przeżywalności \n",
    "df.groupby('czy przeżył')['wiek'].hist();"
   ]
  },
  {
   "cell_type": "markdown",
   "metadata": {},
   "source": [
    "## OBSERWACJE: "
   ]
  },
  {
   "cell_type": "markdown",
   "metadata": {},
   "source": [
    "### - największy odsetek osób, które nie przeżyły mieści się w zakresie między ok. 30 a 37 lat. Dzieci do 15 lat miały większą szansę na przeżycie niż pozostali (widzimy to po tym, że kolor niebieski nie góruje tutaj nad pomarańczowym tak jak w innych zakresach) "
   ]
  },
  {
   "cell_type": "markdown",
   "metadata": {},
   "source": [
    "# EDA: Krok 6 - badanie wartości odstających"
   ]
  },
  {
   "cell_type": "code",
   "execution_count": 37,
   "metadata": {},
   "outputs": [
    {
     "data": {
      "image/png": "[encoded data removed]",
      "text/plain": [
       "<Figure size 1200x600 with 1 Axes>"
      ]
     },
     "metadata": {},
     "output_type": "display_data"
    }
   ],
   "source": [
    "df.plot(kind='box', figsize=(12, 6))\n",
    "plt.xticks(rotation=45)\n",
    "plt.tight_layout()\n",
    "plt.show();"
   ]
  },
  {
   "cell_type": "markdown",
   "metadata": {},
   "source": [
    "## OBSERWACJE:"
   ]
  },
  {
   "cell_type": "markdown",
   "metadata": {},
   "source": [
    "### - najwięcej wartości odstających ma kolumna z ceną biletu, a druga z wiekiem\n",
    "### - przyjrzyjmy się im bliżej:"
   ]
  },
  {
   "cell_type": "code",
   "execution_count": 38,
   "metadata": {},
   "outputs": [
    {
     "data": {
      "image/png": "[encoded data removed]",
      "text/plain": [
       "<Figure size 640x480 with 1 Axes>"
      ]
     },
     "metadata": {},
     "output_type": "display_data"
    },
    {
     "data": {
      "image/png": "[encoded data removed]",
      "text/plain": [
       "<Figure size 640x480 with 1 Axes>"
      ]
     },
     "metadata": {},
     "output_type": "display_data"
    }
   ],
   "source": [
    "df['cena bil.'].plot(kind='box'), plt.show(), df['wiek'].plot(kind='box'), plt.show();"
   ]
  },
  {
   "cell_type": "markdown",
   "metadata": {},
   "source": [
    "### ponówmy funkcję describe i sprawdźmy jakie były odchylenia standardowe "
   ]
  },
  {
   "cell_type": "code",
   "execution_count": 39,
   "metadata": {},
   "outputs": [
    {
     "data": {
      "text/html": [
       "<div>\n",
       "<style scoped>\n",
       "    .dataframe tbody tr th:only-of-type {\n",
       "        vertical-align: middle;\n",
       "    }\n",
       "\n",
       "    .dataframe tbody tr th {\n",
       "        vertical-align: top;\n",
       "    }\n",
       "\n",
       "    .dataframe thead th {\n",
       "        text-align: right;\n",
       "    }\n",
       "</style>\n",
       "<table border=\"1\" class=\"dataframe\">\n",
       "  <thead>\n",
       "    <tr style=\"text-align: right;\">\n",
       "      <th></th>\n",
       "      <th>wiek</th>\n",
       "      <th>cena bil.</th>\n",
       "    </tr>\n",
       "  </thead>\n",
       "  <tbody>\n",
       "    <tr>\n",
       "      <th>count</th>\n",
       "      <td>1309.000000</td>\n",
       "      <td>1308.000000</td>\n",
       "    </tr>\n",
       "    <tr>\n",
       "      <th>mean</th>\n",
       "      <td>29.881135</td>\n",
       "      <td>33.295479</td>\n",
       "    </tr>\n",
       "    <tr>\n",
       "      <th>std</th>\n",
       "      <td>12.883199</td>\n",
       "      <td>51.758668</td>\n",
       "    </tr>\n",
       "    <tr>\n",
       "      <th>min</th>\n",
       "      <td>0.166700</td>\n",
       "      <td>0.000000</td>\n",
       "    </tr>\n",
       "    <tr>\n",
       "      <th>25%</th>\n",
       "      <td>22.000000</td>\n",
       "      <td>7.895800</td>\n",
       "    </tr>\n",
       "    <tr>\n",
       "      <th>50%</th>\n",
       "      <td>29.881135</td>\n",
       "      <td>14.454200</td>\n",
       "    </tr>\n",
       "    <tr>\n",
       "      <th>75%</th>\n",
       "      <td>35.000000</td>\n",
       "      <td>31.275000</td>\n",
       "    </tr>\n",
       "    <tr>\n",
       "      <th>max</th>\n",
       "      <td>80.000000</td>\n",
       "      <td>512.329200</td>\n",
       "    </tr>\n",
       "  </tbody>\n",
       "</table>\n",
       "</div>"
      ],
      "text/plain": [
       "              wiek    cena bil.\n",
       "count  1309.000000  1308.000000\n",
       "mean     29.881135    33.295479\n",
       "std      12.883199    51.758668\n",
       "min       0.166700     0.000000\n",
       "25%      22.000000     7.895800\n",
       "50%      29.881135    14.454200\n",
       "75%      35.000000    31.275000\n",
       "max      80.000000   512.329200"
      ]
     },
     "execution_count": 39,
     "metadata": {},
     "output_type": "execute_result"
    }
   ],
   "source": [
    "tdf = df[['imię','wiek','cena bil.']]\n",
    "tdf.describe()"
   ]
  },
  {
   "cell_type": "markdown",
   "metadata": {},
   "source": [
    "## OBSERWACJE:"
   ]
  },
  {
   "cell_type": "markdown",
   "metadata": {},
   "source": [
    "### - Wartości odstające w wykresach pudełkowych dla WIEKU I CENY BILETU prawdpodobnie nie wynikają z błędów, lecz z faktu, że odchylenia standardowe dla WIEKU to zakres od 17 lat do 41 lat, a dla cen biletów to od 18 do 84, a zatem reszta wartości która wykracza znacznie poza te średnie zakresy są uznawane za odchylenia\n",
    "### - Wrócimy jeszcze do sprawdzenia brakujących wartości:"
   ]
  },
  {
   "cell_type": "code",
   "execution_count": 40,
   "metadata": {},
   "outputs": [
    {
     "data": {
      "text/plain": [
       "nr klasy                      3\n",
       "czy przeżył                   2\n",
       "imię                        362\n",
       "płeć                          2\n",
       "wiek                         53\n",
       "l.rodzeńs./małż. na pok.      6\n",
       "l.rodzic/dzieci na pok.       6\n",
       "nr biletu                   307\n",
       "cena bil.                    92\n",
       "nr kabiny                     0\n",
       "pocz. port                    3\n",
       "nr łodzi rat.                 0\n",
       "nr ciała                      0\n",
       "destynacja                    0\n",
       "dtype: int64"
      ]
     },
     "execution_count": 40,
     "metadata": {},
     "output_type": "execute_result"
    }
   ],
   "source": [
    "y = df[df['nr ciała'].isna()&df['nr kabiny'].isna()&df['nr łodzi rat.'].isna()&df['destynacja'].isna()]\n",
    "y.nunique()"
   ]
  },
  {
   "cell_type": "markdown",
   "metadata": {},
   "source": [
    "### - w tym podzbiorze danych, gdzie dla 4 kolumn mamy wartości puste, na 362 osoby nie przeżyło 360. A to oznacza, że to może być powodem, dlaczego nie udało się pozyskać tych konkretnych informacji."
   ]
  },
  {
   "cell_type": "markdown",
   "metadata": {},
   "source": [
    "# <span style='color:green '> WNIOSKI KOŃCOWE </span>"
   ]
  },
  {
   "cell_type": "markdown",
   "metadata": {},
   "source": [
    "### Z tej bazy danych wynika, że: \n",
    "> ### **1. 64,4% gości o których wiemy stanowili mężczyźni**, a w mniejszości były kobiety stanowiąc 35,6%\n",
    "> ### **2. zdecydowanie dużo więcej kobiet przeżyło katastrofę** (aż 73% kobiet w porównaniu do 19% mężczyzn). Prawdopodobnie dlatego, że **na łodziach ratunkowych pierwszeństwo miały kobiety**, a mężczyźni byli drudzy w kolejce do uratowania\n",
    "> ### **3. im wyższa klasa podróży na statku tym większy procent ocalałych** (w klasie nr 1 przeżyło blisko 62% pasażerów, w klasie nr 2 blisko 43%, a w klasie nr 3 tylko 25%)\n",
    "> ### **4.** **Dzieci do 15 roku życia miały większą szansę na przeżycie**. Największy odsetek osób, które nie przeżyły mieści się w zakresie wiekowym **między ok. 30 a 37 lat**.\n",
    "### Uwagi dodatkowe\n",
    "> ### **brakujące wartości dla pasażerów dot. ich numerów ciał, kabin, wieku czy destynacji** można usprawiedliwić tym, że **ciała nie zostały odnalezione (utonęły), a więc i nie były ponumerowane**, natomiast informacje dotyczące kabin, wieku czy destynacji mogły **nie zostać ujawnione przez pasażerów, bo nie było takiej możliwości**. Pozostałe wybiórcze braki prawpodobnie wynikają z tego, że np. pasażerowie celowo nie podali takich informacji."
   ]
  },
  {
   "cell_type": "code",
   "execution_count": 42,
   "metadata": {},
   "outputs": [
    {
     "name": "stderr",
     "output_type": "stream",
     "text": [
      "[NbConvertApp] Converting notebook titanic_eda_PIOTR_raport.ipynb to html\n",
      "[NbConvertApp] WARNING | Alternative text is missing on 10 image(s).\n",
      "[NbConvertApp] Writing 588333 bytes to titanic_eda_raport_PIOTR.html\n"
     ]
    }
   ],
   "source": [
    "!jupyter nbconvert titanic_eda_PIOTR_raport.ipynb --to html --no-input --no-prompt --output titanic_eda_raport_PIOTR.html"
   ]
  }
 ],
 "metadata": {
  "kernelspec": {
   "display_name": "Python 3 (ipykernel)",
   "language": "python",
   "name": "python3"
  },
  "language_info": {
   "codemirror_mode": {
    "name": "ipython",
    "version": 3
   },
   "file_extension": ".py",
   "mimetype": "text/x-python",
   "name": "python",
   "nbconvert_exporter": "python",
   "pygments_lexer": "ipython3",
   "version": "3.11.11"
  }
 },
 "nbformat": 4,
 "nbformat_minor": 4
}
